{
 "cells": [
  {
   "cell_type": "code",
   "execution_count": 28,
   "metadata": {},
   "outputs": [],
   "source": [
    "import pandas as pd\n",
    "from matplotlib import pyplot as plt\n",
    "import numpy as np\n",
    "import seaborn    as sns\n",
    "from sklearn               import model_selection as ms\n",
    "from sklearn               import ensemble        as en\n",
    "from sklearn               import preprocessing as pp\n",
    "from sklearn.metrics       import mean_absolute_error,mean_squared_error\n",
    "from sklearn.linear_model  import LinearRegression,Lasso"
   ]
  },
  {
   "cell_type": "code",
   "execution_count": 46,
   "metadata": {},
   "outputs": [],
   "source": [
    "def mean_percentage_error(y_real,y_estimado):\n",
    "    \"\"\"Definindo a função do MPE.\n",
    "    \n",
    "    y_real - dados reais do fenômeno\n",
    "    y_estimado - dados estimados pelo modelo - yhat\n",
    "    \"\"\"\n",
    "    return np.mean((y_real - y_estimado)/y_real)\n",
    "\n",
    "def mean_absolute_percentage_error(y_real,y_estimado):\n",
    "    \"\"\"Função para calcular o MAE, MAPE e RMSE de cada modelo aplicado.\n",
    "    \n",
    "    y_real - dados reais do fenômeno\n",
    "    y_estimado - dados estimados pelo modelo - yhat\n",
    "    \"\"\"\n",
    "    return np.mean(np.abs((y_real - y_estimado)/y_real))\n",
    "\n",
    "def ml_error(model_name,y_real,y_estimado):\n",
    "    \"\"\"Função para calcular o MAE, MAPE e RMSE de cada modelo aplicado.\n",
    "    \n",
    "    model_name - String do nome do modelo\n",
    "    y_real - dados reais do fenômeno\n",
    "    y_estimado - dados estimados pelo modelo - yhat\n",
    "    \"\"\"\n",
    "    mae = mean_absolute_error(y_real,y_estimado)\n",
    "    mape = mean_absolute_percentage_error(y_real,y_estimado)\n",
    "    rmse = np.sqrt(mean_squared_error(y_real,y_estimado))\n",
    "\n",
    "    return pd.DataFrame({'Model Name':model_name,\n",
    "                        'MAE':mae,\n",
    "                             'MAPE':mape,\n",
    "                             'RMSE':rmse},index=[0])"
   ]
  },
  {
   "cell_type": "code",
   "execution_count": 85,
   "metadata": {},
   "outputs": [],
   "source": [
    "def cross_validation(model,x_train,y_train,k,Verbose=True):\n",
    "    \"\"\"Função para treinar o modelo em diferentes espaços das amotra e retornar o valor dos eus erros, juntamente com seus ranges.\n",
    "    \n",
    "    x_training - Dataset de Treino\n",
    "    kfold - Número de intervalos em que o modelo será treinado\n",
    "    model_name - String do nome do modelo\n",
    "    model - Modelo já instanciado\n",
    "    verbose - Vizualização do progresso do Cross Validation\n",
    "    \"\"\"\n",
    "    #Selecionar o primeiro espaço de validação, 6 semanas até o fim do treino - start and end for date validation\n",
    "    kfold = ms.KFold(n_splits=k, shuffle=True, random_state=42)\n",
    "    mae_list = []\n",
    "    mape_list = []\n",
    "    rmse_list = []\n",
    "    i = 1\n",
    "    for train_cv, val_cv in kfold.split(x_train, y_train):\n",
    "        if Verbose == True:    \n",
    "            print(f'Fold Number {i}/{k}') \n",
    "        else:\n",
    "            pass\n",
    "        \n",
    "        x_train_fold = x_train.iloc[train_cv]\n",
    "        y_train_fold = y_train.iloc[train_cv]\n",
    "        \n",
    "        x_val_fold = x_train.iloc[val_cv]\n",
    "        y_val_fold = y_train.iloc[val_cv]\n",
    "\n",
    "        # model\n",
    "        model.fit(x_train_fold, y_train_fold)\n",
    "        \n",
    "        yhat_model = model.predict(x_val_fold)\n",
    "\n",
    "        # performance - Y_test é a coluna de sales que devemos encontrar e yhat é o que nosso método prediz\n",
    "        m_result = ml_error(type(model).__name__, y_val_fold, yhat_model)\n",
    "\n",
    "        # Guardando a performance de cada iteração\n",
    "        mae_list.append(m_result['MAE'])\n",
    "        mape_list.append(m_result['MAPE'])\n",
    "        rmse_list.append(m_result['RMSE'])\n",
    "        i += 1\n",
    "\n",
    "    return pd.DataFrame({'Model Name': type(model).__name__,\n",
    "                     'MAE CV': np.round(np.mean(mae_list), 2).astype(str) + ' +/- ' + np.round(np.std(mae_list), 2).astype(str),\n",
    "                     'MAPE CV': np.round(np.mean(mape_list), 2).astype(str) + ' +/- ' + np.round(np.std(mape_list), 2).astype(str),\n",
    "                     'RSME CV': np.round(np.mean(rmse_list), 2).astype(str) + ' +/- ' + np.round(np.std(rmse_list), 2).astype(str)}, index=[0])"
   ]
  },
  {
   "cell_type": "code",
   "execution_count": 13,
   "metadata": {},
   "outputs": [],
   "source": [
    "cols = ['idcsdmpessoa','Receita','Inatividade','Compras','mesesCadastro','vlrCLV']\n",
    "clientes_outubro = pd.read_csv(\"clientes_outubro.csv\", names=cols,sep=';',low_memory=False)\n",
    "\n",
    "df1 = clientes_outubro.copy()"
   ]
  },
  {
   "cell_type": "code",
   "execution_count": 14,
   "metadata": {},
   "outputs": [
    {
     "data": {
      "text/html": [
       "<div>\n",
       "<style scoped>\n",
       "    .dataframe tbody tr th:only-of-type {\n",
       "        vertical-align: middle;\n",
       "    }\n",
       "\n",
       "    .dataframe tbody tr th {\n",
       "        vertical-align: top;\n",
       "    }\n",
       "\n",
       "    .dataframe thead th {\n",
       "        text-align: right;\n",
       "    }\n",
       "</style>\n",
       "<table border=\"1\" class=\"dataframe\">\n",
       "  <thead>\n",
       "    <tr style=\"text-align: right;\">\n",
       "      <th></th>\n",
       "      <th>idcsdmpessoa</th>\n",
       "      <th>Receita</th>\n",
       "      <th>Inatividade</th>\n",
       "      <th>Compras</th>\n",
       "      <th>mesesCadastro</th>\n",
       "      <th>vlrCLV</th>\n",
       "    </tr>\n",
       "  </thead>\n",
       "  <tbody>\n",
       "    <tr>\n",
       "      <th>0</th>\n",
       "      <td>4506</td>\n",
       "      <td>387.9420</td>\n",
       "      <td>20</td>\n",
       "      <td>7</td>\n",
       "      <td>63</td>\n",
       "      <td>905.482003</td>\n",
       "    </tr>\n",
       "    <tr>\n",
       "      <th>1</th>\n",
       "      <td>5521</td>\n",
       "      <td>4666.7395</td>\n",
       "      <td>20</td>\n",
       "      <td>25</td>\n",
       "      <td>63</td>\n",
       "      <td>10976.409685</td>\n",
       "    </tr>\n",
       "    <tr>\n",
       "      <th>2</th>\n",
       "      <td>422022</td>\n",
       "      <td>4630.0577</td>\n",
       "      <td>17</td>\n",
       "      <td>32</td>\n",
       "      <td>62</td>\n",
       "      <td>12074.046757</td>\n",
       "    </tr>\n",
       "    <tr>\n",
       "      <th>3</th>\n",
       "      <td>423314</td>\n",
       "      <td>2891.8703</td>\n",
       "      <td>65</td>\n",
       "      <td>22</td>\n",
       "      <td>252</td>\n",
       "      <td>7874.528815</td>\n",
       "    </tr>\n",
       "    <tr>\n",
       "      <th>4</th>\n",
       "      <td>423812</td>\n",
       "      <td>764.3719</td>\n",
       "      <td>6</td>\n",
       "      <td>12</td>\n",
       "      <td>213</td>\n",
       "      <td>2007.965663</td>\n",
       "    </tr>\n",
       "  </tbody>\n",
       "</table>\n",
       "</div>"
      ],
      "text/plain": [
       "   idcsdmpessoa    Receita  Inatividade  Compras  mesesCadastro        vlrCLV\n",
       "0          4506   387.9420           20        7             63    905.482003\n",
       "1          5521  4666.7395           20       25             63  10976.409685\n",
       "2        422022  4630.0577           17       32             62  12074.046757\n",
       "3        423314  2891.8703           65       22            252   7874.528815\n",
       "4        423812   764.3719            6       12            213   2007.965663"
      ]
     },
     "execution_count": 14,
     "metadata": {},
     "output_type": "execute_result"
    }
   ],
   "source": [
    "df1['vlrCLV'] = df1['vlrCLV'].str.replace(',', '.').astype(float)\n",
    "df1.head()"
   ]
  },
  {
   "cell_type": "code",
   "execution_count": 76,
   "metadata": {},
   "outputs": [],
   "source": [
    "#Simulando os dados que vem em produção\n",
    "X = df1.drop('vlrCLV',axis=1)\n",
    "\n",
    "#Guardando a variável resposta\n",
    "Y = df1['vlrCLV'].copy()\n",
    "\n",
    "#Separando de forma aleatória os dados que vão para o treino e os que vão para o teste\n",
    "x_train, x_validation, y_train, y_validation = ms.train_test_split(X,Y,test_size=0.20)\n",
    "\n",
    "#Juntando os dados de treino com a variável resposta do treino\n",
    "#df5 = pd.concat([x_train,y_train],axis=1)"
   ]
  },
  {
   "cell_type": "code",
   "execution_count": 77,
   "metadata": {},
   "outputs": [],
   "source": [
    "mm = pp.MinMaxScaler() #Mantem a mesma distribuição, com outro shape, e colocando de 0 a 1\n",
    "ss = pp.StandardScaler() #Rescala os dados\n",
    "\n",
    "x_train['Receita'] = mm.fit_transform(x_train[['Receita']]) \n",
    "x_train['Inatividade'] = mm.fit_transform(x_train[['Inatividade']])\n",
    "x_train['Compras'] = mm.fit_transform(x_train[['Compras']]) \n",
    "x_train['mesesCadastro'] = mm.fit_transform(x_train[['mesesCadastro']])\n",
    "#y_train = np.log(y_train)\n",
    "\n",
    "x_validation['Receita'] = mm.fit_transform(x_validation[['Receita']]) \n",
    "x_validation['Inatividade'] = mm.fit_transform(x_validation[['Inatividade']])\n",
    "x_validation['Compras'] = mm.fit_transform(x_validation[['Compras']]) \n",
    "x_validation['mesesCadastro'] = mm.fit_transform(x_validation[['mesesCadastro']])\n",
    "#y_validation = np.log(y_validation)"
   ]
  },
  {
   "cell_type": "code",
   "execution_count": 87,
   "metadata": {},
   "outputs": [
    {
     "data": {
      "text/html": [
       "<div>\n",
       "<style scoped>\n",
       "    .dataframe tbody tr th:only-of-type {\n",
       "        vertical-align: middle;\n",
       "    }\n",
       "\n",
       "    .dataframe tbody tr th {\n",
       "        vertical-align: top;\n",
       "    }\n",
       "\n",
       "    .dataframe thead th {\n",
       "        text-align: right;\n",
       "    }\n",
       "</style>\n",
       "<table border=\"1\" class=\"dataframe\">\n",
       "  <thead>\n",
       "    <tr style=\"text-align: right;\">\n",
       "      <th></th>\n",
       "      <th>Model Name</th>\n",
       "      <th>MAE</th>\n",
       "      <th>MAPE</th>\n",
       "      <th>RMSE</th>\n",
       "    </tr>\n",
       "  </thead>\n",
       "  <tbody>\n",
       "    <tr>\n",
       "      <th>0</th>\n",
       "      <td>Linear Regression</td>\n",
       "      <td>26111.888828</td>\n",
       "      <td>15.269128</td>\n",
       "      <td>55494.046169</td>\n",
       "    </tr>\n",
       "  </tbody>\n",
       "</table>\n",
       "</div>"
      ],
      "text/plain": [
       "          Model Name           MAE       MAPE          RMSE\n",
       "0  Linear Regression  26111.888828  15.269128  55494.046169"
      ]
     },
     "execution_count": 87,
     "metadata": {},
     "output_type": "execute_result"
    }
   ],
   "source": [
    "#model\n",
    "lr = LinearRegression().fit(x_train,y_train)\n",
    "\n",
    "#prediction\n",
    "yhat_lr = lr.predict(x_validation)\n",
    "\n",
    "#performance - Y_test é a coluna de sales que devemos encontrar e yhat_lr é o que nosso método prediz\n",
    "lr_result = ml_error('Linear Regression',y_validation,yhat_lr)\n",
    "lr_result"
   ]
  },
  {
   "cell_type": "code",
   "execution_count": 88,
   "metadata": {},
   "outputs": [
    {
     "name": "stdout",
     "output_type": "stream",
     "text": [
      "Fold Number 1/5\n",
      "Fold Number 2/5\n",
      "Fold Number 3/5\n",
      "Fold Number 4/5\n",
      "Fold Number 5/5\n"
     ]
    },
    {
     "data": {
      "text/html": [
       "<div>\n",
       "<style scoped>\n",
       "    .dataframe tbody tr th:only-of-type {\n",
       "        vertical-align: middle;\n",
       "    }\n",
       "\n",
       "    .dataframe tbody tr th {\n",
       "        vertical-align: top;\n",
       "    }\n",
       "\n",
       "    .dataframe thead th {\n",
       "        text-align: right;\n",
       "    }\n",
       "</style>\n",
       "<table border=\"1\" class=\"dataframe\">\n",
       "  <thead>\n",
       "    <tr style=\"text-align: right;\">\n",
       "      <th></th>\n",
       "      <th>Model Name</th>\n",
       "      <th>MAE CV</th>\n",
       "      <th>MAPE CV</th>\n",
       "      <th>RSME CV</th>\n",
       "    </tr>\n",
       "  </thead>\n",
       "  <tbody>\n",
       "    <tr>\n",
       "      <th>0</th>\n",
       "      <td>LinearRegression</td>\n",
       "      <td>565.38 +/- 14.76</td>\n",
       "      <td>8.26 +/- 0.34</td>\n",
       "      <td>1029.15 +/- 180.05</td>\n",
       "    </tr>\n",
       "  </tbody>\n",
       "</table>\n",
       "</div>"
      ],
      "text/plain": [
       "         Model Name            MAE CV        MAPE CV             RSME CV\n",
       "0  LinearRegression  565.38 +/- 14.76  8.26 +/- 0.34  1029.15 +/- 180.05"
      ]
     },
     "execution_count": 88,
     "metadata": {},
     "output_type": "execute_result"
    }
   ],
   "source": [
    "lr_result_cv = cross_validation(lr,x_train,y_train,5,Verbose=True)\n",
    "lr_result_cv"
   ]
  },
  {
   "cell_type": "code",
   "execution_count": 91,
   "metadata": {},
   "outputs": [
    {
     "data": {
      "text/html": [
       "<div>\n",
       "<style scoped>\n",
       "    .dataframe tbody tr th:only-of-type {\n",
       "        vertical-align: middle;\n",
       "    }\n",
       "\n",
       "    .dataframe tbody tr th {\n",
       "        vertical-align: top;\n",
       "    }\n",
       "\n",
       "    .dataframe thead th {\n",
       "        text-align: right;\n",
       "    }\n",
       "</style>\n",
       "<table border=\"1\" class=\"dataframe\">\n",
       "  <thead>\n",
       "    <tr style=\"text-align: right;\">\n",
       "      <th></th>\n",
       "      <th>Model Name</th>\n",
       "      <th>MAE</th>\n",
       "      <th>MAPE</th>\n",
       "      <th>RMSE</th>\n",
       "    </tr>\n",
       "  </thead>\n",
       "  <tbody>\n",
       "    <tr>\n",
       "      <th>0</th>\n",
       "      <td>Linear Regression Lasso</td>\n",
       "      <td>26089.939152</td>\n",
       "      <td>15.265353</td>\n",
       "      <td>55446.119182</td>\n",
       "    </tr>\n",
       "  </tbody>\n",
       "</table>\n",
       "</div>"
      ],
      "text/plain": [
       "                Model Name           MAE       MAPE          RMSE\n",
       "0  Linear Regression Lasso  26089.939152  15.265353  55446.119182"
      ]
     },
     "execution_count": 91,
     "metadata": {},
     "output_type": "execute_result"
    }
   ],
   "source": [
    "#model\n",
    "lrr = Lasso(alpha=0.01).fit(x_train,y_train)\n",
    "\n",
    "#prediction\n",
    "yhat_lrr = lrr.predict(x_validation)\n",
    "\n",
    "#performance - Y_test é a coluna de sales que devemos encontrar e yhat_lr é o que nosso método prediz\n",
    "lr_result = ml_error('Linear Regression Lasso',y_validation,yhat_lrr)\n",
    "lr_result"
   ]
  },
  {
   "cell_type": "code",
   "execution_count": 90,
   "metadata": {},
   "outputs": [
    {
     "name": "stdout",
     "output_type": "stream",
     "text": [
      "Fold Number 1/5\n",
      "Fold Number 2/5\n",
      "Fold Number 3/5\n",
      "Fold Number 4/5\n",
      "Fold Number 5/5\n"
     ]
    },
    {
     "data": {
      "text/html": [
       "<div>\n",
       "<style scoped>\n",
       "    .dataframe tbody tr th:only-of-type {\n",
       "        vertical-align: middle;\n",
       "    }\n",
       "\n",
       "    .dataframe tbody tr th {\n",
       "        vertical-align: top;\n",
       "    }\n",
       "\n",
       "    .dataframe thead th {\n",
       "        text-align: right;\n",
       "    }\n",
       "</style>\n",
       "<table border=\"1\" class=\"dataframe\">\n",
       "  <thead>\n",
       "    <tr style=\"text-align: right;\">\n",
       "      <th></th>\n",
       "      <th>Model Name</th>\n",
       "      <th>MAE CV</th>\n",
       "      <th>MAPE CV</th>\n",
       "      <th>RSME CV</th>\n",
       "    </tr>\n",
       "  </thead>\n",
       "  <tbody>\n",
       "    <tr>\n",
       "      <th>0</th>\n",
       "      <td>Lasso</td>\n",
       "      <td>564.3 +/- 14.63</td>\n",
       "      <td>8.27 +/- 0.34</td>\n",
       "      <td>1029.99 +/- 184.31</td>\n",
       "    </tr>\n",
       "  </tbody>\n",
       "</table>\n",
       "</div>"
      ],
      "text/plain": [
       "  Model Name           MAE CV        MAPE CV             RSME CV\n",
       "0      Lasso  564.3 +/- 14.63  8.27 +/- 0.34  1029.99 +/- 184.31"
      ]
     },
     "execution_count": 90,
     "metadata": {},
     "output_type": "execute_result"
    }
   ],
   "source": [
    "lrr_result_cv = cross_validation(lrr,x_train,y_train,5,Verbose=True)\n",
    "lrr_result_cv"
   ]
  },
  {
   "cell_type": "code",
   "execution_count": 92,
   "metadata": {},
   "outputs": [],
   "source": [
    "#model\n",
    "rf = en.RandomForestRegressor(n_estimators=100, n_jobs=-1,random_state=42).fit(x_train,y_train)\n",
    "\n",
    "#prediction\n",
    "yhat_rf = rf.predict(x_validation)\n",
    "\n",
    "#performance - Y_test é a coluna de sales que devemos encontrar e yhat_lr é o que nosso método prediz\n",
    "lr_result = ml_error('Random Forest',y_validation,yhat_rf)\n",
    "lr_result"
   ]
  },
  {
   "cell_type": "code",
   "execution_count": null,
   "metadata": {},
   "outputs": [],
   "source": []
  }
 ],
 "metadata": {
  "kernelspec": {
   "display_name": "Python 3",
   "language": "python",
   "name": "python3"
  },
  "language_info": {
   "codemirror_mode": {
    "name": "ipython",
    "version": 3
   },
   "file_extension": ".py",
   "mimetype": "text/x-python",
   "name": "python",
   "nbconvert_exporter": "python",
   "pygments_lexer": "ipython3",
   "version": "3.10.11"
  }
 },
 "nbformat": 4,
 "nbformat_minor": 2
}
