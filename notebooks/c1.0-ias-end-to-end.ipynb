{
 "cells": [
  {
   "cell_type": "markdown",
   "id": "0e6835c3-cb2b-4b3e-accb-c71a1bd46ee5",
   "metadata": {},
   "source": [
    "# PA005: High Value Custumer Identification (Insiders)"
   ]
  },
  {
   "cell_type": "markdown",
   "id": "a4076a6c-fb27-404c-be59-5ec6ffa9167b",
   "metadata": {},
   "source": [
    "# 0.0 Planejamento da solução (IOT)"
   ]
  },
  {
   "cell_type": "markdown",
   "id": "3e0fe713",
   "metadata": {},
   "source": [
    "### Input - Entrada"
   ]
  },
  {
   "cell_type": "markdown",
   "id": "8086ea42",
   "metadata": {},
   "source": [
    "1. Problema de Negócio\n",
    "  - Selecionar os clientes mais valiosos para integrar um programa de fidelização\n",
    "2. Conjunto de dados\n",
    "  - Vendas de um Ecommerce Online, durante o período de um ano."
   ]
  },
  {
   "cell_type": "markdown",
   "id": "44ed536b",
   "metadata": {},
   "source": [
    "### Output - Saída"
   ]
  },
  {
   "cell_type": "markdown",
   "id": "efcdeb5a",
   "metadata": {},
   "source": [
    "1. Indicação das pessoas que farão parte do programa Insiders\n",
    "  - Lista: client_id | is_insider\n",
    "\n",
    "2. Relatório com as respostas das perguntas de negócio.\n",
    "  - Quem são as pessoas elegíveis para participar do programa de Insiders?\n",
    "  - Quantos clientes farão parte do grupo?\n",
    "  - Quais as principais características desse clientes?\n",
    "  - Qual a porcentagem de contribuição do faturamento desses clientes, vinda do Insiders?\n",
    "  - Qual a expectativa de faturamento desse grupo para os próximos meses?\n",
    "  - Quais as condições para uma pessoa ser elegível ao Insiders?\n",
    "  - Quais as condições para uma pessoa ser removida do Insiders?\n",
    "  - Qual a garantia que o programa Insiders é melhor que o restante da base?\n",
    "  - Quais ações o time de marketing pode realizar para aumentar o faturamento?"
   ]
  },
  {
   "cell_type": "markdown",
   "id": "b52b2072",
   "metadata": {},
   "source": [
    "### Tasks - Tarefas"
   ]
  },
  {
   "cell_type": "markdown",
   "id": "cea8f74c",
   "metadata": {},
   "source": [
    "1. Quem são as pessoas elegíveis para participar do programa de Insiders?\n",
    "  - O que é ser elegível? O que são clientes de maior \"valor\"?\n",
    "  - Faturamento:\n",
    "    - Alto Ticket Médio\n",
    "    - Alto LTV (Life Time Value - Gasto durante seu período de vida na empresa)\n",
    "    - Baixo Recência\n",
    "    - Alto basket size (tamanho da cesta de compra)\n",
    "    - Baixa probabilidade de churn (parou de comprar)\n",
    "    - Alta previsão LTV\n",
    "    - Alta previsão de compra\n",
    "\n",
    "  - Custo\n",
    "    - Baixa taxa de devolução\n",
    "\n",
    "  - Experiência de Compra\n",
    "    - Média alta das avaliações\n",
    "\n",
    "2. Quantos clientes farão parte do grupo?\n",
    "  - Número total de clientes\n",
    "  - Calcula a % do grupo Insiders\n",
    "\n",
    "3. Quais as principais características desse clientes?\n",
    "  - Escrever características do cliente\n",
    "    - Idade\n",
    "    - Localização\n",
    "    \n",
    "  - Ecrever características de consumo\n",
    "    - Atributos da clusterização (perfil de compra do cliente)\n",
    "\n",
    "4. Qual a porcentagem de contribuição do faturamento desses clientes, vinda do Insiders?\n",
    "  - Faturamento total do ano\n",
    "  - Faturamento do grupo Insiders\n",
    "\n",
    "5. Qual a expectativa de faturamento desse grupo para os próximos meses?\n",
    "  - LTV do grupo Insiders\n",
    "  - Análise de Cohort (Marcação da pessoa, como por exemplo no tempo, perfil de pessoas que entraram no mesmo mês)\n",
    "\n",
    "6. Quais as condições para uma pessoa ser elegível ao Insiders?\n",
    "  - Definir a periodicidade (recorrência de rodar o modelo)\n",
    "  - A pessoa precisa ser similar ou parecida com uma pessoa do grupo\n",
    "\n",
    "7. Quais as condições para uma pessoa ser removida do Insiders?\n",
    "  - Definir a periodicidade (recorrência de rodar o modelo)\n",
    "  - A pessoa precisa ser disimilar ou s distanciar das médias do grupo\n",
    "\n",
    "8. Qual a garantia que o programa Insiders é melhor que o restante da base?\n",
    "  - Teste A/B\n",
    "  - Teste A/B Baysiano\n",
    "  - Teste de hipóteses\n",
    "  \n",
    "9. Quais ações o time de marketing pode realizar para aumentar o faturamento?\n",
    "  - Desconto\n",
    "  - Preferência de compra\n",
    "  - Frete\n",
    "  - Visita a empresa"
   ]
  },
  {
   "cell_type": "markdown",
   "id": "0638665b",
   "metadata": {},
   "source": [
    "## Benchmark de soluções"
   ]
  },
  {
   "cell_type": "markdown",
   "id": "760d8f5c",
   "metadata": {},
   "source": [
    "### 1. Desk Research - Pesquisa de soluções das outras empresas"
   ]
  },
  {
   "cell_type": "markdown",
   "id": "ca6ea79c",
   "metadata": {},
   "source": [
    "- Modelo RFM\n",
    "  1. Recência\n",
    "    a. Tempo desde a última compra\n",
    "    b. Responsividade\n",
    "\n",
    "  2. Frequência\n",
    "    a. Quantidade de compras em um período\n",
    "    b. Engajamento\n",
    "\n",
    "  3. Monetária\n",
    "    a. Total gasto, faturamento\n",
    "    b. Alto valor de compra"
   ]
  },
  {
   "cell_type": "markdown",
   "id": "7be61a13",
   "metadata": {},
   "source": [
    "1. Passo 01:\n",
    "  - Ordernar os clientes por Recência\n",
    "\n",
    "2. Passo 02:\n",
    "  - Dividir a base de clientes de acordo com as notas\n",
    "    - Notas de 1 - 5 (5 notas possíveis)\n",
    "    - Divide a base de clientes em 5 grupos de 20% cada\n",
    "    - Quanto menor o valor, maior nota\n",
    "  - Essa nota se chama R Score\n",
    "\n",
    "3. Passo 03:\n",
    "  - Ordernar is clientes pela Frequência\n",
    "\n",
    "4. Passo 04:\n",
    "  - Dar as notas de maneira similar ao passo 02\n",
    "  - Essa nota se chama F Score\n",
    "  - Quanto maior o valor, maior a nota\n",
    "\n",
    "5. Passo 05:\n",
    "  - Ordenar pelo monetário (faturamento)\n",
    "\n",
    "6. Passo 06:\n",
    "  - Dar as notas de maneira similar ao passo 02 e 04\n",
    "  - Essa nota de chama M Score\n",
    "  - Quanto maior o valor, maior a nota\n",
    "\n",
    "7. Passo 07:7\n",
    "  - Calcular a média das notas R,F,M\n",
    "  - RFM Score (pode ordenar por essa média para ter os melhores clientes)"
   ]
  },
  {
   "cell_type": "markdown",
   "id": "5bc5f3b8",
   "metadata": {},
   "source": [
    "Definições que podem ser usadas para dividir os clientes com o RFM e assim direcionar esse clientes para as melhores ações\n",
    "\n",
    "1. Champions\n",
    "  - Compra recentes, frequentes com alto valor gasto\n",
    "  - Prêmios para esses clientes\n",
    "\n",
    "2. Potential Loyalists\n",
    "  - Compras recentes, boa frequência e bom valor gasto\n",
    "  - Programa de Fidelização e Upsell\n",
    "\n",
    "3. New Custumers\n",
    "  - Compra recente, baixa frequência\n",
    "  - Construção de Relacionamento, ofertas especiais\n",
    "\n",
    "4. At Risk Custumers\n",
    "  - \"Faz tempo que não compra\"\n",
    "  - Campanhas de reativação, ofertas, produtos\n",
    "\n",
    "5. Can't Lose Them\n",
    "  - Faz tempo que não compra e não viita o site\n"
   ]
  },
  {
   "cell_type": "markdown",
   "id": "6ce50b2e",
   "metadata": {},
   "source": [
    "Com isso, você consegue entender:\n",
    "\n",
    "1. Quem são seus melhores clientes?\n",
    "\n",
    "2. Quais clientes estão próximos do Churn?\n",
    "\n",
    "3. Quais os potenciais clientes para entrar no programa de Fidelização?\n",
    "\n",
    "4. Quais clientes precisam ser retidos?\n",
    "\n",
    "5. Quais clientes mais prováveis de responder as campanhas de marketing?"
   ]
  },
  {
   "cell_type": "markdown",
   "id": "b146c0e8",
   "metadata": {},
   "source": []
  },
  {
   "cell_type": "code",
   "execution_count": null,
   "id": "1c6b2d80",
   "metadata": {},
   "outputs": [],
   "source": []
  }
 ],
 "metadata": {
  "kernelspec": {
   "display_name": "Python 3 (ipykernel)",
   "language": "python",
   "name": "python3"
  },
  "language_info": {
   "codemirror_mode": {
    "name": "ipython",
    "version": 3
   },
   "file_extension": ".py",
   "mimetype": "text/x-python",
   "name": "python",
   "nbconvert_exporter": "python",
   "pygments_lexer": "ipython3",
   "version": "3.10.11"
  }
 },
 "nbformat": 4,
 "nbformat_minor": 5
}
