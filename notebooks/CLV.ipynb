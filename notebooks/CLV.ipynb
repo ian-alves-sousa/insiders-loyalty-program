{
 "cells": [
  {
   "cell_type": "code",
   "execution_count": 1,
   "metadata": {},
   "outputs": [],
   "source": [
    "import pandas as pd\n",
    "from matplotlib import pyplot as plt\n",
    "import numpy as np\n",
    "import seaborn    as sns\n",
    "from sklearn               import model_selection as ms\n",
    "from sklearn               import ensemble        as en\n",
    "from sklearn               import preprocessing as pp"
   ]
  },
  {
   "cell_type": "code",
   "execution_count": 2,
   "metadata": {},
   "outputs": [],
   "source": [
    "cols = ['idcsdmpessoa','Receita','Inatividade','Compras','mesesCadastro','vlrCLV']\n",
    "clientes_outubro = pd.read_csv(\"clientes_outubro.csv\", names=cols,sep=';',low_memory=False)\n",
    "\n",
    "df1 = clientes_outubro.copy()"
   ]
  },
  {
   "cell_type": "code",
   "execution_count": 3,
   "metadata": {},
   "outputs": [
    {
     "data": {
      "text/html": [
       "<div>\n",
       "<style scoped>\n",
       "    .dataframe tbody tr th:only-of-type {\n",
       "        vertical-align: middle;\n",
       "    }\n",
       "\n",
       "    .dataframe tbody tr th {\n",
       "        vertical-align: top;\n",
       "    }\n",
       "\n",
       "    .dataframe thead th {\n",
       "        text-align: right;\n",
       "    }\n",
       "</style>\n",
       "<table border=\"1\" class=\"dataframe\">\n",
       "  <thead>\n",
       "    <tr style=\"text-align: right;\">\n",
       "      <th></th>\n",
       "      <th>idcsdmpessoa</th>\n",
       "      <th>Receita</th>\n",
       "      <th>Inatividade</th>\n",
       "      <th>Compras</th>\n",
       "      <th>mesesCadastro</th>\n",
       "      <th>vlrCLV</th>\n",
       "    </tr>\n",
       "  </thead>\n",
       "  <tbody>\n",
       "    <tr>\n",
       "      <th>0</th>\n",
       "      <td>4506</td>\n",
       "      <td>387.9420</td>\n",
       "      <td>20</td>\n",
       "      <td>7</td>\n",
       "      <td>63</td>\n",
       "      <td>905.482003</td>\n",
       "    </tr>\n",
       "    <tr>\n",
       "      <th>1</th>\n",
       "      <td>5521</td>\n",
       "      <td>4666.7395</td>\n",
       "      <td>20</td>\n",
       "      <td>25</td>\n",
       "      <td>63</td>\n",
       "      <td>10976.409685</td>\n",
       "    </tr>\n",
       "    <tr>\n",
       "      <th>2</th>\n",
       "      <td>422022</td>\n",
       "      <td>4630.0577</td>\n",
       "      <td>17</td>\n",
       "      <td>32</td>\n",
       "      <td>62</td>\n",
       "      <td>12074.046757</td>\n",
       "    </tr>\n",
       "    <tr>\n",
       "      <th>3</th>\n",
       "      <td>423314</td>\n",
       "      <td>2891.8703</td>\n",
       "      <td>65</td>\n",
       "      <td>22</td>\n",
       "      <td>252</td>\n",
       "      <td>7874.528815</td>\n",
       "    </tr>\n",
       "    <tr>\n",
       "      <th>4</th>\n",
       "      <td>423812</td>\n",
       "      <td>764.3719</td>\n",
       "      <td>6</td>\n",
       "      <td>12</td>\n",
       "      <td>213</td>\n",
       "      <td>2007.965663</td>\n",
       "    </tr>\n",
       "  </tbody>\n",
       "</table>\n",
       "</div>"
      ],
      "text/plain": [
       "   idcsdmpessoa    Receita  Inatividade  Compras  mesesCadastro        vlrCLV\n",
       "0          4506   387.9420           20        7             63    905.482003\n",
       "1          5521  4666.7395           20       25             63  10976.409685\n",
       "2        422022  4630.0577           17       32             62  12074.046757\n",
       "3        423314  2891.8703           65       22            252   7874.528815\n",
       "4        423812   764.3719            6       12            213   2007.965663"
      ]
     },
     "execution_count": 3,
     "metadata": {},
     "output_type": "execute_result"
    }
   ],
   "source": [
    "df1['vlrCLV'] = df1['vlrCLV'].str.replace(',', '.').astype(float)\n",
    "df1.head()"
   ]
  },
  {
   "cell_type": "code",
   "execution_count": null,
   "metadata": {},
   "outputs": [],
   "source": [
    "var = 'Receita'"
   ]
  },
  {
   "cell_type": "code",
   "execution_count": null,
   "metadata": {},
   "outputs": [],
   "source": [
    "sns.displot(df1[var]);"
   ]
  },
  {
   "cell_type": "code",
   "execution_count": null,
   "metadata": {},
   "outputs": [],
   "source": [
    "sns.boxplot(df1[var]);"
   ]
  },
  {
   "cell_type": "code",
   "execution_count": 4,
   "metadata": {},
   "outputs": [],
   "source": [
    "#Simulando os dados que vem em produção\n",
    "X = df1.drop('vlrCLV',axis=1)\n",
    "\n",
    "#Guardando a variável resposta\n",
    "Y = df1['vlrCLV'].copy()\n",
    "\n",
    "#Separando de forma aleatória os dados que vão para o treino e os que vão para o teste\n",
    "x_train, x_validation, y_train, y_validation = ms.train_test_split(X,Y,test_size=0.20)\n",
    "\n",
    "#Juntando os dados de treino com a variável resposta do treino\n",
    "df5 = pd.concat([x_train,y_train],axis=1)"
   ]
  },
  {
   "cell_type": "code",
   "execution_count": null,
   "metadata": {},
   "outputs": [],
   "source": [
    "mm = pp.MinMaxScaler() #Mantem a mesma distribuição, com outro shape, e colocando de 0 a 1\n",
    "ss = pp.StandardScaler() #Rescala os dados\n",
    "rs = pp.RobustScaler()\n",
    "\n",
    "\n",
    "df5['Receita'] = mm.fit_transform(df5[['Receita']]) \n",
    "df5['Inatividade'] = mm.fit_transform(df5[['Inatividade']])\n",
    "df5['Receita'] = mm.fit_transform(df5[['Compras']]) \n",
    "df5['Inatividade'] = mm.fit_transform(df5[['mesesCadastro']])\n",
    "\n",
    "x_validation['Receita'] = mm.fit_transform(x_validation[['Receita']]) \n",
    "x_validation['Inatividade'] = mm.fit_transform(x_validation[['Inatividade']])\n",
    "x_validation['Receita'] = mm.fit_transform(x_validation[['Compras']]) \n",
    "x_validation['Inatividade'] = mm.fit_transform(x_validation[['mesesCadastro']])"
   ]
  },
  {
   "cell_type": "code",
   "execution_count": 5,
   "metadata": {},
   "outputs": [
    {
     "data": {
      "text/html": [
       "<style>#sk-container-id-1 {color: black;}#sk-container-id-1 pre{padding: 0;}#sk-container-id-1 div.sk-toggleable {background-color: white;}#sk-container-id-1 label.sk-toggleable__label {cursor: pointer;display: block;width: 100%;margin-bottom: 0;padding: 0.3em;box-sizing: border-box;text-align: center;}#sk-container-id-1 label.sk-toggleable__label-arrow:before {content: \"▸\";float: left;margin-right: 0.25em;color: #696969;}#sk-container-id-1 label.sk-toggleable__label-arrow:hover:before {color: black;}#sk-container-id-1 div.sk-estimator:hover label.sk-toggleable__label-arrow:before {color: black;}#sk-container-id-1 div.sk-toggleable__content {max-height: 0;max-width: 0;overflow: hidden;text-align: left;background-color: #f0f8ff;}#sk-container-id-1 div.sk-toggleable__content pre {margin: 0.2em;color: black;border-radius: 0.25em;background-color: #f0f8ff;}#sk-container-id-1 input.sk-toggleable__control:checked~div.sk-toggleable__content {max-height: 200px;max-width: 100%;overflow: auto;}#sk-container-id-1 input.sk-toggleable__control:checked~label.sk-toggleable__label-arrow:before {content: \"▾\";}#sk-container-id-1 div.sk-estimator input.sk-toggleable__control:checked~label.sk-toggleable__label {background-color: #d4ebff;}#sk-container-id-1 div.sk-label input.sk-toggleable__control:checked~label.sk-toggleable__label {background-color: #d4ebff;}#sk-container-id-1 input.sk-hidden--visually {border: 0;clip: rect(1px 1px 1px 1px);clip: rect(1px, 1px, 1px, 1px);height: 1px;margin: -1px;overflow: hidden;padding: 0;position: absolute;width: 1px;}#sk-container-id-1 div.sk-estimator {font-family: monospace;background-color: #f0f8ff;border: 1px dotted black;border-radius: 0.25em;box-sizing: border-box;margin-bottom: 0.5em;}#sk-container-id-1 div.sk-estimator:hover {background-color: #d4ebff;}#sk-container-id-1 div.sk-parallel-item::after {content: \"\";width: 100%;border-bottom: 1px solid gray;flex-grow: 1;}#sk-container-id-1 div.sk-label:hover label.sk-toggleable__label {background-color: #d4ebff;}#sk-container-id-1 div.sk-serial::before {content: \"\";position: absolute;border-left: 1px solid gray;box-sizing: border-box;top: 0;bottom: 0;left: 50%;z-index: 0;}#sk-container-id-1 div.sk-serial {display: flex;flex-direction: column;align-items: center;background-color: white;padding-right: 0.2em;padding-left: 0.2em;position: relative;}#sk-container-id-1 div.sk-item {position: relative;z-index: 1;}#sk-container-id-1 div.sk-parallel {display: flex;align-items: stretch;justify-content: center;background-color: white;position: relative;}#sk-container-id-1 div.sk-item::before, #sk-container-id-1 div.sk-parallel-item::before {content: \"\";position: absolute;border-left: 1px solid gray;box-sizing: border-box;top: 0;bottom: 0;left: 50%;z-index: -1;}#sk-container-id-1 div.sk-parallel-item {display: flex;flex-direction: column;z-index: 1;position: relative;background-color: white;}#sk-container-id-1 div.sk-parallel-item:first-child::after {align-self: flex-end;width: 50%;}#sk-container-id-1 div.sk-parallel-item:last-child::after {align-self: flex-start;width: 50%;}#sk-container-id-1 div.sk-parallel-item:only-child::after {width: 0;}#sk-container-id-1 div.sk-dashed-wrapped {border: 1px dashed gray;margin: 0 0.4em 0.5em 0.4em;box-sizing: border-box;padding-bottom: 0.4em;background-color: white;}#sk-container-id-1 div.sk-label label {font-family: monospace;font-weight: bold;display: inline-block;line-height: 1.2em;}#sk-container-id-1 div.sk-label-container {text-align: center;}#sk-container-id-1 div.sk-container {/* jupyter's `normalize.less` sets `[hidden] { display: none; }` but bootstrap.min.css set `[hidden] { display: none !important; }` so we also need the `!important` here to be able to override the default hidden behavior on the sphinx rendered scikit-learn.org. See: https://github.com/scikit-learn/scikit-learn/issues/21755 */display: inline-block !important;position: relative;}#sk-container-id-1 div.sk-text-repr-fallback {display: none;}</style><div id=\"sk-container-id-1\" class=\"sk-top-container\"><div class=\"sk-text-repr-fallback\"><pre>RandomForestRegressor(n_jobs=-1, random_state=0)</pre><b>In a Jupyter environment, please rerun this cell to show the HTML representation or trust the notebook. <br />On GitHub, the HTML representation is unable to render, please try loading this page with nbviewer.org.</b></div><div class=\"sk-container\" hidden><div class=\"sk-item\"><div class=\"sk-estimator sk-toggleable\"><input class=\"sk-toggleable__control sk-hidden--visually\" id=\"sk-estimator-id-1\" type=\"checkbox\" checked><label for=\"sk-estimator-id-1\" class=\"sk-toggleable__label sk-toggleable__label-arrow\">RandomForestRegressor</label><div class=\"sk-toggleable__content\"><pre>RandomForestRegressor(n_jobs=-1, random_state=0)</pre></div></div></div></div></div>"
      ],
      "text/plain": [
       "RandomForestRegressor(n_jobs=-1, random_state=0)"
      ]
     },
     "execution_count": 5,
     "metadata": {},
     "output_type": "execute_result"
    }
   ],
   "source": [
    "#model definition\n",
    "forest = en.RandomForestRegressor(n_estimators=100, random_state=0,n_jobs=-1)\n",
    "\n",
    "#data preparation\n",
    "x_train_n = df5.drop(['idcsdmpessoa','vlrCLV'],axis=1)\n",
    "y_train_n = y_train.values\n",
    "\n",
    "forest.fit(x_train_n,y_train_n)"
   ]
  },
  {
   "cell_type": "code",
   "execution_count": 6,
   "metadata": {},
   "outputs": [
    {
     "name": "stdout",
     "output_type": "stream",
     "text": [
      "Feature Ranking\n",
      "         feature  importance\n",
      "0        Receita    0.992888\n",
      "0    Inatividade    0.003482\n",
      "0  mesesCadastro    0.002300\n",
      "0        Compras    0.001330\n"
     ]
    },
    {
     "data": {
      "image/png": "[encoded data removed]",
      "text/plain": [
       "<Figure size 640x480 with 1 Axes>"
      ]
     },
     "metadata": {},
     "output_type": "display_data"
    }
   ],
   "source": [
    "importances = forest.feature_importances_ #Salva as importâncias das features\n",
    "std = np.std([tree.feature_importances_ for tree in forest.estimators_],axis=0)\n",
    "indices = np.argsort(importances)[::-1] #Importâncias das árvores ordenadas pelo maior valor\n",
    "\n",
    "#print the feature ranking\n",
    "print('Feature Ranking')\n",
    "df = pd.DataFrame()\n",
    "for i,j in zip(x_train_n,forest.feature_importances_):\n",
    "    aux = pd.DataFrame({'feature': i, 'importance': j},index=[0])\n",
    "    df = pd.concat([df,aux],axis=0)\n",
    "    \n",
    "print(df.sort_values('importance',ascending=False))\n",
    "\n",
    "#Plot the impurity-based feature importances of the forest\n",
    "plt.figure()\n",
    "plt.title('Feature Importances')\n",
    "plt.bar(range(x_train_n.shape[1]),importances[indices],color='r',yerr=std[indices],align='center')\n",
    "plt.xticks(range(x_train_n.shape[1]),indices)\n",
    "plt.xlim([-1,x_train_n.shape[1]])\n",
    "plt.show()"
   ]
  },
  {
   "cell_type": "code",
   "execution_count": null,
   "metadata": {},
   "outputs": [],
   "source": []
  },
  {
   "cell_type": "code",
   "execution_count": null,
   "metadata": {},
   "outputs": [],
   "source": []
  }
 ],
 "metadata": {
  "kernelspec": {
   "display_name": "Python 3",
   "language": "python",
   "name": "python3"
  },
  "language_info": {
   "codemirror_mode": {
    "name": "ipython",
    "version": 3
   },
   "file_extension": ".py",
   "mimetype": "text/x-python",
   "name": "python",
   "nbconvert_exporter": "python",
   "pygments_lexer": "ipython3",
   "version": "3.10.11"
  }
 },
 "nbformat": 4,
 "nbformat_minor": 2
}
